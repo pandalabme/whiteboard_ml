{
 "cells": [
  {
   "cell_type": "code",
   "execution_count": 1,
   "id": "852d70b0-a565-466f-90bd-79152e605cf1",
   "metadata": {
    "tags": []
   },
   "outputs": [
    {
     "name": "stdout",
     "output_type": "stream",
     "text": [
      "回归系数: [3.47311828 3.47311828]\n"
     ]
    }
   ],
   "source": [
    "import numpy as np\n",
    "\n",
    "def kalman_filter(X, y, initial_state_estimate, initial_covariance_estimate, process_noise_covariance, measurement_noise_covariance):\n",
    "    # 初始化状态估计和协方差矩阵\n",
    "    x = initial_state_estimate\n",
    "    P = initial_covariance_estimate\n",
    "    \n",
    "    # 循环处理每个时间步\n",
    "    for i in range(len(X)):\n",
    "        # 预测步骤\n",
    "        x_predicted = F @ x\n",
    "        P = F @ P @ F.T + Q\n",
    "        \n",
    "        # 更新步骤\n",
    "        K = P @ H.T @ np.linalg.inv(H @ P @ H.T + R)\n",
    "        y_predicted = H @ x_predicted\n",
    "        residual = y[i] - y_predicted\n",
    "        x = x_predicted + K @ residual\n",
    "        P = (np.eye(len(x)) - K @ H) @ P\n",
    "    \n",
    "    return x\n",
    "\n",
    "# 示例数据\n",
    "X = np.array([[1, 2], [2, 3], [3, 4]])  # 输入特征\n",
    "y = np.array([2, 3, 4])  # 输出标签\n",
    "\n",
    "# 系统矩阵\n",
    "F = np.eye(2)  # 假设状态不随时间变化\n",
    "\n",
    "# 测量矩阵\n",
    "H = np.array([[1, 0], [0, 1]])  # 测量值即为状态值\n",
    "\n",
    "# 过程噪声和测量噪声的协方差矩阵\n",
    "Q = np.eye(2) * 0.01  # 过程噪声\n",
    "R = np.eye(2) * 0.01  # 测量噪声\n",
    "\n",
    "# 初始状态估计和协方差矩阵\n",
    "initial_state_estimate = np.array([0, 0])  # 初始状态估计\n",
    "initial_covariance_estimate = np.eye(2) * 0.1  # 初始协方差矩阵\n",
    "\n",
    "# 执行卡尔曼滤波\n",
    "result = kalman_filter(X, y, initial_state_estimate, initial_covariance_estimate, Q, R)\n",
    "print(\"回归系数:\", result)\n"
   ]
  }
 ],
 "metadata": {
  "kernelspec": {
   "display_name": "Python [conda env:d2l]",
   "language": "python",
   "name": "conda-env-d2l-py"
  },
  "language_info": {
   "codemirror_mode": {
    "name": "ipython",
    "version": 3
   },
   "file_extension": ".py",
   "mimetype": "text/x-python",
   "name": "python",
   "nbconvert_exporter": "python",
   "pygments_lexer": "ipython3",
   "version": "3.11.4"
  }
 },
 "nbformat": 4,
 "nbformat_minor": 5
}
